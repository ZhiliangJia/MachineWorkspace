{
 "cells": [
  {
   "cell_type": "code",
   "execution_count": 1,
   "metadata": {},
   "outputs": [],
   "source": [
    "import numpy as np\n",
    "import pandas as pd"
   ]
  },
  {
   "cell_type": "code",
   "execution_count": 3,
   "metadata": {},
   "outputs": [
    {
     "name": "stdout",
     "output_type": "stream",
     "text": [
      "0    1.0\n",
      "1    3.0\n",
      "2    5.0\n",
      "3    NaN\n",
      "4    6.0\n",
      "5    8.0\n",
      "dtype: float64\n"
     ]
    }
   ],
   "source": [
    "s = pd.Series([1, 3, 5, np.nan, 6, 8])\n",
    "print(s)"
   ]
  },
  {
   "cell_type": "code",
   "execution_count": 7,
   "metadata": {
    "scrolled": true
   },
   "outputs": [
    {
     "name": "stdout",
     "output_type": "stream",
     "text": [
      "DatetimeIndex(['2013-01-01', '2013-01-02', '2013-01-03', '2013-01-04',\n",
      "               '2013-01-05', '2013-01-06'],\n",
      "              dtype='datetime64[ns]', freq='D')\n",
      "['A', 'B', 'C', 'D']\n",
      "                   A         B         C         D\n",
      "2013-01-01  0.158916  0.523755  1.149323  0.427991\n",
      "2013-01-02  0.472939 -0.202143 -0.217318 -0.373081\n",
      "2013-01-03  1.830112  0.090187 -1.280819 -0.082152\n",
      "2013-01-04  2.196392 -0.692758  1.841223  0.727856\n",
      "2013-01-05  0.736004  1.205579 -1.089112 -0.919252\n",
      "2013-01-06 -0.215169  1.437291  0.517149 -1.296667\n"
     ]
    }
   ],
   "source": [
    "dates = pd.date_range('20130101', periods=6)\n",
    "print(dates)\n",
    "print(list('ABCD'))\n",
    "df = pd.DataFrame(np.random.randn(6, 4), index=dates, columns=list('ABCD'))\n",
    "print(df)"
   ]
  },
  {
   "cell_type": "code",
   "execution_count": 16,
   "metadata": {},
   "outputs": [
    {
     "name": "stdout",
     "output_type": "stream",
     "text": [
      "     A          B    C  D      E    F\n",
      "0  1.0 2013-01-02  1.0  3   test  foo\n",
      "1  1.0 2013-01-02  1.0  3  train  foo\n",
      "2  1.0 2013-01-02  1.0  3   test  foo\n",
      "3  1.0 2013-01-02  1.0  3  train  foo\n",
      "A           float64\n",
      "B    datetime64[ns]\n",
      "C           float32\n",
      "D             int32\n",
      "E          category\n",
      "F            object\n",
      "dtype: object\n",
      "     A          B    C  D      E    F\n",
      "0  1.0 2013-01-02  1.0  3   test  foo\n",
      "1  1.0 2013-01-02  1.0  3  train  foo\n",
      "2  1.0 2013-01-02  1.0  3   test  foo\n",
      "     A          B    C  D      E    F\n",
      "1  1.0 2013-01-02  1.0  3  train  foo\n",
      "2  1.0 2013-01-02  1.0  3   test  foo\n",
      "3  1.0 2013-01-02  1.0  3  train  foo\n",
      "[[1.0 Timestamp('2013-01-02 00:00:00') 1.0 3 'test' 'foo']\n",
      " [1.0 Timestamp('2013-01-02 00:00:00') 1.0 3 'train' 'foo']\n",
      " [1.0 Timestamp('2013-01-02 00:00:00') 1.0 3 'test' 'foo']\n",
      " [1.0 Timestamp('2013-01-02 00:00:00') 1.0 3 'train' 'foo']]\n",
      "              A         B         C         D\n",
      "count  6.000000  6.000000  6.000000  6.000000\n",
      "mean   0.863199  0.393652  0.153408 -0.252551\n",
      "std    0.952859  0.823734  1.241868  0.774928\n",
      "min   -0.215169 -0.692758 -1.280819 -1.296667\n",
      "25%    0.237422 -0.129061 -0.871164 -0.782709\n",
      "50%    0.604471  0.306971  0.149915 -0.227617\n",
      "75%    1.556585  1.035123  0.991280  0.300455\n",
      "max    2.196392  1.437291  1.841223  0.727856\n",
      "   2013-01-01  2013-01-02  2013-01-03  2013-01-04  2013-01-05  2013-01-06\n",
      "A    0.158916    0.472939    1.830112    2.196392    0.736004   -0.215169\n",
      "B    0.523755   -0.202143    0.090187   -0.692758    1.205579    1.437291\n",
      "C    1.149323   -0.217318   -1.280819    1.841223   -1.089112    0.517149\n",
      "D    0.427991   -0.373081   -0.082152    0.727856   -0.919252   -1.296667\n"
     ]
    }
   ],
   "source": [
    "df2 = pd.DataFrame({'A': 1.,\n",
    "                    'B': pd.Timestamp('20130102'),\n",
    "                    'C': pd.Series(1, index=list(range(4)), dtype='float32'),\n",
    "                    'D': np.array([3] * 4, dtype='int32'),\n",
    "                    'E': pd.Categorical([\"test\", \"train\", \"test\", \"train\"]),\n",
    "                    'F': 'foo'})\n",
    "print(df2)\n",
    "print(df2.dtypes)\n",
    "print(df2.head(3))\n",
    "print(df2.tail(3))\n",
    "print(df2.to_numpy())\n",
    "print(df.describe())\n",
    "print(df.T)"
   ]
  },
  {
   "cell_type": "code",
   "execution_count": 36,
   "metadata": {},
   "outputs": [
    {
     "name": "stdout",
     "output_type": "stream",
     "text": [
      "                   A         B         C         D\n",
      "2013-01-01  0.158916  0.523755  1.149323  0.427991\n",
      "2013-01-02  0.472939 -0.202143 -0.217318 -0.373081\n",
      "2013-01-03  1.830112  0.090187 -1.280819 -0.082152\n",
      "                   A         B         C         D\n",
      "2013-01-01  0.158916  0.523755  1.149323  0.427991\n",
      "                   A         B         C         D\n",
      "2013-01-01  0.158916  0.523755  1.149323  0.427991\n",
      "2013-01-02  0.472939 -0.202143 -0.217318 -0.373081\n",
      "2013-01-03  1.830112  0.090187 -1.280819 -0.082152\n",
      "2013-01-04  2.196392 -0.692758  1.841223  0.727856\n",
      "2013-01-05  0.736004  1.205579 -1.089112 -0.919252\n",
      "2013-01-06 -0.215169  1.437291  0.517149 -1.296667\n",
      "A    0.158916\n",
      "B    0.523755\n",
      "C    1.149323\n",
      "D    0.427991\n",
      "Name: 2013-01-01 00:00:00, dtype: float64\n",
      "A    0.472939\n",
      "B   -0.202143\n",
      "Name: 2013-01-02 00:00:00, dtype: float64\n"
     ]
    }
   ],
   "source": [
    "print(df[0:3])\n",
    "print(df['2013-01-01':'2013-01-01'])\n",
    "print(df['2013-01-01':])\n",
    "print(df.loc['2013-01-01'])\n",
    "print(df.loc['20130102', ['A', 'B']])"
   ]
  },
  {
   "cell_type": "code",
   "execution_count": 49,
   "metadata": {},
   "outputs": [
    {
     "name": "stdout",
     "output_type": "stream",
     "text": [
      "-1.2808185615205108\n",
      "                   A         B         C         D\n",
      "2013-01-02  0.472939 -0.202143 -0.217318 -0.373081\n",
      "2013-01-04  2.196392 -0.692758  1.841223  0.727856\n",
      "6\n",
      "A    0.863199\n",
      "B    0.393652\n",
      "C    0.153408\n",
      "D   -0.252551\n",
      "dtype: float64\n"
     ]
    }
   ],
   "source": [
    "print(df.iloc[2,2])\n",
    "print(df.iloc[1:5:2])\n",
    "print(len(df))\n",
    "print(df.mean(0))"
   ]
  },
  {
   "cell_type": "code",
   "execution_count": 53,
   "metadata": {},
   "outputs": [
    {
     "name": "stdout",
     "output_type": "stream",
     "text": [
      "          A         B         C         D\n",
      "0 -0.423398  0.571254  0.042464  0.804042\n",
      "1  0.707245 -2.106985  0.397143  0.488792\n",
      "2  1.385803 -0.248591  0.402351 -1.583788\n",
      "3  0.322880 -0.734694  0.375425 -0.602729\n",
      "4  1.441060 -1.419054  0.178367  0.026997\n",
      "5 -1.602235  0.366436 -0.892331  0.294473\n",
      "6 -0.424496 -0.907486 -0.699114  1.515153\n",
      "7 -1.350324  0.662355 -2.025786 -0.523939\n"
     ]
    },
    {
     "data": {
      "text/html": [
       "<div>\n",
       "<style scoped>\n",
       "    .dataframe tbody tr th:only-of-type {\n",
       "        vertical-align: middle;\n",
       "    }\n",
       "\n",
       "    .dataframe tbody tr th {\n",
       "        vertical-align: top;\n",
       "    }\n",
       "\n",
       "    .dataframe thead th {\n",
       "        text-align: right;\n",
       "    }\n",
       "</style>\n",
       "<table border=\"1\" class=\"dataframe\">\n",
       "  <thead>\n",
       "    <tr style=\"text-align: right;\">\n",
       "      <th></th>\n",
       "      <th>A</th>\n",
       "      <th>B</th>\n",
       "      <th>C</th>\n",
       "      <th>D</th>\n",
       "    </tr>\n",
       "  </thead>\n",
       "  <tbody>\n",
       "    <tr>\n",
       "      <th>0</th>\n",
       "      <td>-0.423398</td>\n",
       "      <td>0.571254</td>\n",
       "      <td>0.042464</td>\n",
       "      <td>0.804042</td>\n",
       "    </tr>\n",
       "    <tr>\n",
       "      <th>1</th>\n",
       "      <td>0.707245</td>\n",
       "      <td>-2.106985</td>\n",
       "      <td>0.397143</td>\n",
       "      <td>0.488792</td>\n",
       "    </tr>\n",
       "    <tr>\n",
       "      <th>2</th>\n",
       "      <td>1.385803</td>\n",
       "      <td>-0.248591</td>\n",
       "      <td>0.402351</td>\n",
       "      <td>-1.583788</td>\n",
       "    </tr>\n",
       "    <tr>\n",
       "      <th>3</th>\n",
       "      <td>0.322880</td>\n",
       "      <td>-0.734694</td>\n",
       "      <td>0.375425</td>\n",
       "      <td>-0.602729</td>\n",
       "    </tr>\n",
       "    <tr>\n",
       "      <th>4</th>\n",
       "      <td>1.441060</td>\n",
       "      <td>-1.419054</td>\n",
       "      <td>0.178367</td>\n",
       "      <td>0.026997</td>\n",
       "    </tr>\n",
       "    <tr>\n",
       "      <th>5</th>\n",
       "      <td>-1.602235</td>\n",
       "      <td>0.366436</td>\n",
       "      <td>-0.892331</td>\n",
       "      <td>0.294473</td>\n",
       "    </tr>\n",
       "    <tr>\n",
       "      <th>6</th>\n",
       "      <td>-0.424496</td>\n",
       "      <td>-0.907486</td>\n",
       "      <td>-0.699114</td>\n",
       "      <td>1.515153</td>\n",
       "    </tr>\n",
       "    <tr>\n",
       "      <th>7</th>\n",
       "      <td>-1.350324</td>\n",
       "      <td>0.662355</td>\n",
       "      <td>-2.025786</td>\n",
       "      <td>-0.523939</td>\n",
       "    </tr>\n",
       "    <tr>\n",
       "      <th>8</th>\n",
       "      <td>0.322880</td>\n",
       "      <td>-0.734694</td>\n",
       "      <td>0.375425</td>\n",
       "      <td>-0.602729</td>\n",
       "    </tr>\n",
       "  </tbody>\n",
       "</table>\n",
       "</div>"
      ],
      "text/plain": [
       "          A         B         C         D\n",
       "0 -0.423398  0.571254  0.042464  0.804042\n",
       "1  0.707245 -2.106985  0.397143  0.488792\n",
       "2  1.385803 -0.248591  0.402351 -1.583788\n",
       "3  0.322880 -0.734694  0.375425 -0.602729\n",
       "4  1.441060 -1.419054  0.178367  0.026997\n",
       "5 -1.602235  0.366436 -0.892331  0.294473\n",
       "6 -0.424496 -0.907486 -0.699114  1.515153\n",
       "7 -1.350324  0.662355 -2.025786 -0.523939\n",
       "8  0.322880 -0.734694  0.375425 -0.602729"
      ]
     },
     "execution_count": 53,
     "metadata": {},
     "output_type": "execute_result"
    }
   ],
   "source": [
    "df = pd.DataFrame(np.random.randn(8, 4), columns=['A', 'B', 'C', 'D'])\n",
    "print(df)\n",
    "s = df.iloc[3]\n",
    "df.append(s, ignore_index=True)"
   ]
  },
  {
   "cell_type": "code",
   "execution_count": 62,
   "metadata": {},
   "outputs": [
    {
     "name": "stdout",
     "output_type": "stream",
     "text": [
      "MultiIndex([('bar', 'one'),\n",
      "            ('bar', 'two'),\n",
      "            ('baz', 'one'),\n",
      "            ('baz', 'two'),\n",
      "            ('foo', 'one'),\n",
      "            ('foo', 'two'),\n",
      "            ('qux', 'one'),\n",
      "            ('qux', 'two')],\n",
      "           names=['first', 'second'])\n",
      "                     A         B\n",
      "first second                    \n",
      "bar   one     0.697824  1.415522\n",
      "      two    -0.492320  0.640916\n",
      "baz   one    -0.027834 -0.099892\n",
      "      two     0.129821 -0.540378\n",
      "foo   one     1.260139  0.887034\n",
      "      two     0.736199 -0.251615\n",
      "qux   one    -1.264016  1.028809\n",
      "      two     2.725849 -0.720889\n"
     ]
    },
    {
     "data": {
      "text/plain": [
       "first  second   \n",
       "bar    one     A    0.697824\n",
       "               B    1.415522\n",
       "       two     A   -0.492320\n",
       "               B    0.640916\n",
       "baz    one     A   -0.027834\n",
       "               B   -0.099892\n",
       "       two     A    0.129821\n",
       "               B   -0.540378\n",
       "foo    one     A    1.260139\n",
       "               B    0.887034\n",
       "       two     A    0.736199\n",
       "               B   -0.251615\n",
       "qux    one     A   -1.264016\n",
       "               B    1.028809\n",
       "       two     A    2.725849\n",
       "               B   -0.720889\n",
       "dtype: float64"
      ]
     },
     "execution_count": 62,
     "metadata": {},
     "output_type": "execute_result"
    }
   ],
   "source": [
    "tuples = list(zip(*[['bar', 'bar', 'baz', 'baz',\n",
    "                     'foo', 'foo', 'qux', 'qux'],\n",
    "                    ['one', 'two', 'one', 'two',\n",
    "                     'one', 'two', 'one', 'two']]))\n",
    "index = pd.MultiIndex.from_tuples(tuples, names=['first', 'second'])\n",
    "print(index)\n",
    "df = pd.DataFrame(np.random.randn(8, 2), index=index, columns=['A', 'B'])\n",
    "print(df)\n",
    "df.stack()\n",
    "# df"
   ]
  },
  {
   "cell_type": "code",
   "execution_count": 66,
   "metadata": {
    "scrolled": true
   },
   "outputs": [
    {
     "data": {
      "text/plain": [
       "2012-01-01    27317\n",
       "Freq: 5T, dtype: int32"
      ]
     },
     "execution_count": 66,
     "metadata": {},
     "output_type": "execute_result"
    }
   ],
   "source": [
    "rng = pd.date_range('1/1/2012', periods=100, freq='S')\n",
    "ts = pd.Series(np.random.randint(0, 500, len(rng)), index=rng)\n",
    "ts.resample('5Min').sum()\n",
    "# ts"
   ]
  },
  {
   "cell_type": "code",
   "execution_count": 70,
   "metadata": {},
   "outputs": [
    {
     "data": {
      "text/html": [
       "<div>\n",
       "<style scoped>\n",
       "    .dataframe tbody tr th:only-of-type {\n",
       "        vertical-align: middle;\n",
       "    }\n",
       "\n",
       "    .dataframe tbody tr th {\n",
       "        vertical-align: top;\n",
       "    }\n",
       "\n",
       "    .dataframe thead th {\n",
       "        text-align: right;\n",
       "    }\n",
       "</style>\n",
       "<table border=\"1\" class=\"dataframe\">\n",
       "  <thead>\n",
       "    <tr style=\"text-align: right;\">\n",
       "      <th></th>\n",
       "      <th>id</th>\n",
       "      <th>raw_grade</th>\n",
       "      <th>grade</th>\n",
       "    </tr>\n",
       "  </thead>\n",
       "  <tbody>\n",
       "    <tr>\n",
       "      <th>0</th>\n",
       "      <td>1</td>\n",
       "      <td>a</td>\n",
       "      <td>very good</td>\n",
       "    </tr>\n",
       "    <tr>\n",
       "      <th>1</th>\n",
       "      <td>2</td>\n",
       "      <td>b</td>\n",
       "      <td>good</td>\n",
       "    </tr>\n",
       "    <tr>\n",
       "      <th>2</th>\n",
       "      <td>3</td>\n",
       "      <td>b</td>\n",
       "      <td>good</td>\n",
       "    </tr>\n",
       "    <tr>\n",
       "      <th>3</th>\n",
       "      <td>4</td>\n",
       "      <td>a</td>\n",
       "      <td>very good</td>\n",
       "    </tr>\n",
       "    <tr>\n",
       "      <th>4</th>\n",
       "      <td>5</td>\n",
       "      <td>a</td>\n",
       "      <td>very good</td>\n",
       "    </tr>\n",
       "    <tr>\n",
       "      <th>5</th>\n",
       "      <td>6</td>\n",
       "      <td>e</td>\n",
       "      <td>very bad</td>\n",
       "    </tr>\n",
       "  </tbody>\n",
       "</table>\n",
       "</div>"
      ],
      "text/plain": [
       "   id raw_grade      grade\n",
       "0   1         a  very good\n",
       "1   2         b       good\n",
       "2   3         b       good\n",
       "3   4         a  very good\n",
       "4   5         a  very good\n",
       "5   6         e   very bad"
      ]
     },
     "execution_count": 70,
     "metadata": {},
     "output_type": "execute_result"
    }
   ],
   "source": [
    "df = pd.DataFrame({\"id\": [1, 2, 3, 4, 5, 6],\n",
    "                   \"raw_grade\": ['a', 'b', 'b', 'a', 'a', 'e']})\n",
    "df[\"grade\"] = df[\"raw_grade\"].astype(\"category\")\n",
    "df[\"grade\"].cat.categories = [\"very good\", \"good\", \"very bad\"]\n",
    "df"
   ]
  }
 ],
 "metadata": {
  "kernelspec": {
   "display_name": "Python 3",
   "language": "python",
   "name": "python3"
  },
  "language_info": {
   "codemirror_mode": {
    "name": "ipython",
    "version": 3
   },
   "file_extension": ".py",
   "mimetype": "text/x-python",
   "name": "python",
   "nbconvert_exporter": "python",
   "pygments_lexer": "ipython3",
   "version": "3.7.4"
  }
 },
 "nbformat": 4,
 "nbformat_minor": 4
}
