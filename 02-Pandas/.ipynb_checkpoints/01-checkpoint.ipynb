{
 "cells": [
  {
   "cell_type": "code",
   "execution_count": 1,
   "metadata": {},
   "outputs": [],
   "source": [
    "import numpy as np\n",
    "import pandas as pd"
   ]
  },
  {
   "cell_type": "code",
   "execution_count": 3,
   "metadata": {},
   "outputs": [
    {
     "name": "stdout",
     "output_type": "stream",
     "text": [
      "0    1.0\n",
      "1    3.0\n",
      "2    5.0\n",
      "3    NaN\n",
      "4    6.0\n",
      "5    8.0\n",
      "dtype: float64\n"
     ]
    }
   ],
   "source": [
    "s = pd.Series([1, 3, 5, np.nan, 6, 8])\n",
    "print(s)"
   ]
  },
  {
   "cell_type": "code",
   "execution_count": 7,
   "metadata": {
    "scrolled": true
   },
   "outputs": [
    {
     "name": "stdout",
     "output_type": "stream",
     "text": [
      "DatetimeIndex(['2013-01-01', '2013-01-02', '2013-01-03', '2013-01-04',\n",
      "               '2013-01-05', '2013-01-06'],\n",
      "              dtype='datetime64[ns]', freq='D')\n",
      "['A', 'B', 'C', 'D']\n",
      "                   A         B         C         D\n",
      "2013-01-01  0.158916  0.523755  1.149323  0.427991\n",
      "2013-01-02  0.472939 -0.202143 -0.217318 -0.373081\n",
      "2013-01-03  1.830112  0.090187 -1.280819 -0.082152\n",
      "2013-01-04  2.196392 -0.692758  1.841223  0.727856\n",
      "2013-01-05  0.736004  1.205579 -1.089112 -0.919252\n",
      "2013-01-06 -0.215169  1.437291  0.517149 -1.296667\n"
     ]
    }
   ],
   "source": [
    "dates = pd.date_range('20130101', periods=6)\n",
    "print(dates)\n",
    "print(list('ABCD'))\n",
    "df = pd.DataFrame(np.random.randn(6, 4), index=dates, columns=list('ABCD'))\n",
    "print(df)"
   ]
  },
  {
   "cell_type": "code",
   "execution_count": 16,
   "metadata": {},
   "outputs": [
    {
     "name": "stdout",
     "output_type": "stream",
     "text": [
      "     A          B    C  D      E    F\n",
      "0  1.0 2013-01-02  1.0  3   test  foo\n",
      "1  1.0 2013-01-02  1.0  3  train  foo\n",
      "2  1.0 2013-01-02  1.0  3   test  foo\n",
      "3  1.0 2013-01-02  1.0  3  train  foo\n",
      "A           float64\n",
      "B    datetime64[ns]\n",
      "C           float32\n",
      "D             int32\n",
      "E          category\n",
      "F            object\n",
      "dtype: object\n",
      "     A          B    C  D      E    F\n",
      "0  1.0 2013-01-02  1.0  3   test  foo\n",
      "1  1.0 2013-01-02  1.0  3  train  foo\n",
      "2  1.0 2013-01-02  1.0  3   test  foo\n",
      "     A          B    C  D      E    F\n",
      "1  1.0 2013-01-02  1.0  3  train  foo\n",
      "2  1.0 2013-01-02  1.0  3   test  foo\n",
      "3  1.0 2013-01-02  1.0  3  train  foo\n",
      "[[1.0 Timestamp('2013-01-02 00:00:00') 1.0 3 'test' 'foo']\n",
      " [1.0 Timestamp('2013-01-02 00:00:00') 1.0 3 'train' 'foo']\n",
      " [1.0 Timestamp('2013-01-02 00:00:00') 1.0 3 'test' 'foo']\n",
      " [1.0 Timestamp('2013-01-02 00:00:00') 1.0 3 'train' 'foo']]\n",
      "              A         B         C         D\n",
      "count  6.000000  6.000000  6.000000  6.000000\n",
      "mean   0.863199  0.393652  0.153408 -0.252551\n",
      "std    0.952859  0.823734  1.241868  0.774928\n",
      "min   -0.215169 -0.692758 -1.280819 -1.296667\n",
      "25%    0.237422 -0.129061 -0.871164 -0.782709\n",
      "50%    0.604471  0.306971  0.149915 -0.227617\n",
      "75%    1.556585  1.035123  0.991280  0.300455\n",
      "max    2.196392  1.437291  1.841223  0.727856\n",
      "   2013-01-01  2013-01-02  2013-01-03  2013-01-04  2013-01-05  2013-01-06\n",
      "A    0.158916    0.472939    1.830112    2.196392    0.736004   -0.215169\n",
      "B    0.523755   -0.202143    0.090187   -0.692758    1.205579    1.437291\n",
      "C    1.149323   -0.217318   -1.280819    1.841223   -1.089112    0.517149\n",
      "D    0.427991   -0.373081   -0.082152    0.727856   -0.919252   -1.296667\n"
     ]
    }
   ],
   "source": [
    "df2 = pd.DataFrame({'A': 1.,\n",
    "                    'B': pd.Timestamp('20130102'),\n",
    "                    'C': pd.Series(1, index=list(range(4)), dtype='float32'),\n",
    "                    'D': np.array([3] * 4, dtype='int32'),\n",
    "                    'E': pd.Categorical([\"test\", \"train\", \"test\", \"train\"]),\n",
    "                    'F': 'foo'})\n",
    "print(df2)\n",
    "print(df2.dtypes)\n",
    "print(df2.head(3))\n",
    "print(df2.tail(3))\n",
    "print(df2.to_numpy())\n",
    "print(df.describe())\n",
    "print(df.T)"
   ]
  },
  {
   "cell_type": "code",
   "execution_count": 36,
   "metadata": {},
   "outputs": [
    {
     "name": "stdout",
     "output_type": "stream",
     "text": [
      "                   A         B         C         D\n",
      "2013-01-01  0.158916  0.523755  1.149323  0.427991\n",
      "2013-01-02  0.472939 -0.202143 -0.217318 -0.373081\n",
      "2013-01-03  1.830112  0.090187 -1.280819 -0.082152\n",
      "                   A         B         C         D\n",
      "2013-01-01  0.158916  0.523755  1.149323  0.427991\n",
      "                   A         B         C         D\n",
      "2013-01-01  0.158916  0.523755  1.149323  0.427991\n",
      "2013-01-02  0.472939 -0.202143 -0.217318 -0.373081\n",
      "2013-01-03  1.830112  0.090187 -1.280819 -0.082152\n",
      "2013-01-04  2.196392 -0.692758  1.841223  0.727856\n",
      "2013-01-05  0.736004  1.205579 -1.089112 -0.919252\n",
      "2013-01-06 -0.215169  1.437291  0.517149 -1.296667\n",
      "A    0.158916\n",
      "B    0.523755\n",
      "C    1.149323\n",
      "D    0.427991\n",
      "Name: 2013-01-01 00:00:00, dtype: float64\n",
      "A    0.472939\n",
      "B   -0.202143\n",
      "Name: 2013-01-02 00:00:00, dtype: float64\n"
     ]
    }
   ],
   "source": [
    "print(df[0:3])\n",
    "print(df['2013-01-01':'2013-01-01'])\n",
    "print(df['2013-01-01':])\n",
    "print(df.loc['2013-01-01'])\n",
    "print(df.loc['20130102', ['A', 'B']])"
   ]
  },
  {
   "cell_type": "code",
   "execution_count": 45,
   "metadata": {},
   "outputs": [
    {
     "name": "stdout",
     "output_type": "stream",
     "text": [
      "-1.2808185615205108\n",
      "                   A         B         C         D\n",
      "2013-01-02  0.472939 -0.202143 -0.217318 -0.373081\n",
      "2013-01-04  2.196392 -0.692758  1.841223  0.727856\n"
     ]
    }
   ],
   "source": [
    "print(df.iloc[2,2])\n",
    "print(df.iloc[1:5:2])\n"
   ]
  }
 ],
 "metadata": {
  "kernelspec": {
   "display_name": "Python 3",
   "language": "python",
   "name": "python3"
  },
  "language_info": {
   "codemirror_mode": {
    "name": "ipython",
    "version": 3
   },
   "file_extension": ".py",
   "mimetype": "text/x-python",
   "name": "python",
   "nbconvert_exporter": "python",
   "pygments_lexer": "ipython3",
   "version": "3.7.4"
  }
 },
 "nbformat": 4,
 "nbformat_minor": 4
}
